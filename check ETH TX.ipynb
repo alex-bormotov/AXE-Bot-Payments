{
 "cells": [
  {
   "cell_type": "code",
   "execution_count": null,
   "metadata": {},
   "outputs": [],
   "source": [
    "import requests\n",
    "import json\n",
    "import datetime\n",
    "import urllib.parse\n",
    "\n",
    "from secrets import token_urlsafe"
   ]
  },
  {
   "cell_type": "code",
   "execution_count": null,
   "metadata": {},
   "outputs": [],
   "source": [
    "def eth_check_tx_and_value(address_to, from_address, value):\n",
    "    \n",
    "    value = round(float(value), 8)\n",
    "    \n",
    "    url = \"https://api.etherscan.io/api?module=account&action=txlist\"\n",
    "    startblock = \"0\"\n",
    "    endblock = \"\"\n",
    "    key = \"API_KEY\"\n",
    "    \n",
    "    x = requests.get(\"{}&address={}&startblock={}&endblock={}&sort=asc&apikey={}\".format(url, address_to, startblock, endblock, key)).json()\n",
    "    \n",
    "    txs = []\n",
    "    for k, v in x.items():\n",
    "        if k == \"result\":\n",
    "            #print(v)\n",
    "            for t in v:\n",
    "                #print(t[\"from\"], t[\"value\"], t[\"to\"], t[\"confirmations\"], t[\"timeStamp\"])\n",
    "                txs.append({\"from\": t[\"from\"], \"value\": t[\"value\"], \"to\": t[\"to\"], \"confirmations\": t[\"confirmations\"], \"timeStamp\": t[\"timeStamp\"]})\n",
    "    \n",
    "    \n",
    "    tx_from_address = []\n",
    "    confirmations_needs = 30\n",
    "    for s in txs:\n",
    "        if from_address in s[\"from\"] and int(s[\"confirmations\"]) >= confirmations_needs:\n",
    "            #print(float(s[\"value\"]) / 10**18, s[\"confirmations\"], datetime.date.fromtimestamp(int(s[\"timeStamp\"])))\n",
    "            tx_from_address.append({\"from_address\": from_address, \"value\":round(float(s[\"value\"]) / 10**18, 8), \"confirmations\": s[\"confirmations\"], \"date\": datetime.date.fromtimestamp(int(s[\"timeStamp\"]))})\n",
    "\n",
    "            \n",
    "    def search_value(value, tx_from_address):\n",
    "        for f in tx_from_address:\n",
    "            for kk, vv in f.items():\n",
    "                if kk == \"value\":\n",
    "                    if float(value) == vv:\n",
    "                        return(vv)\n",
    "            \n",
    "\n",
    "    if search_value(value, tx_from_address) == float(value):\n",
    "        return True\n",
    "    else:\n",
    "        return False"
   ]
  },
  {
   "cell_type": "code",
   "execution_count": null,
   "metadata": {},
   "outputs": [],
   "source": [
    "value = \"0.261258879908215\"\n",
    "from_address = \"0xea674fdde714fd979de3edf0f56aa9716b898ec8\"\n",
    "address_to = \"0x1786be450cb0899c898209fcf0214ae40028e9cf\""
   ]
  },
  {
   "cell_type": "code",
   "execution_count": null,
   "metadata": {},
   "outputs": [],
   "source": [
    "eth_check_tx_and_value(address_to, from_address, value)"
   ]
  },
  {
   "cell_type": "code",
   "execution_count": null,
   "metadata": {},
   "outputs": [],
   "source": []
  }
 ],
 "metadata": {
  "kernelspec": {
   "display_name": "Python 3",
   "language": "python",
   "name": "python3"
  },
  "language_info": {
   "codemirror_mode": {
    "name": "ipython",
    "version": 3
   },
   "file_extension": ".py",
   "mimetype": "text/x-python",
   "name": "python",
   "nbconvert_exporter": "python",
   "pygments_lexer": "ipython3",
   "version": "3.7.2"
  }
 },
 "nbformat": 4,
 "nbformat_minor": 2
}
