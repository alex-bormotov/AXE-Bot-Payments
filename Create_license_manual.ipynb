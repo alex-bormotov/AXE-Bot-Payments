{
 "cells": [
  {
   "cell_type": "code",
   "execution_count": 1,
   "metadata": {},
   "outputs": [],
   "source": [
    "from cryptography.fernet import Fernet\n",
    "from datetime import datetime, timedelta\n",
    "\n",
    "\n",
    "bot_id_from_form = \"bPvhYYnTbg\"\n",
    "\n",
    "secret_for_encruption_licence_time = \"CAQRzbEvyDxfy-h3Nk-fURRWlzuzneygxSCMLfv2vsY=\"\n",
    "x = datetime.utcnow() + timedelta(12 * 365 / 12)\n",
    "x = str(x)\n",
    "x = x.encode()\n",
    "\n",
    "key = secret_for_encruption_licence_time + bot_id_from_form\n",
    "\n",
    "f = Fernet(key)\n",
    "encrypt_value = f.encrypt(x)\n",
    "encrypt_value = encrypt_value.decode()\n",
    "\n",
    "bot_licence = encrypt_value"
   ]
  },
  {
   "cell_type": "code",
   "execution_count": 2,
   "metadata": {},
   "outputs": [],
   "source": [
    "from run import write_licence_time"
   ]
  },
  {
   "cell_type": "code",
   "execution_count": 3,
   "metadata": {},
   "outputs": [
    {
     "data": {
      "text/plain": [
       "'ok'"
      ]
     },
     "execution_count": 3,
     "metadata": {},
     "output_type": "execute_result"
    }
   ],
   "source": [
    "write_licence_time(bot_id_from_form, bot_licence)"
   ]
  },
  {
   "cell_type": "code",
   "execution_count": null,
   "metadata": {},
   "outputs": [],
   "source": []
  }
 ],
 "metadata": {
  "kernelspec": {
   "display_name": "Python 3",
   "language": "python",
   "name": "python3"
  },
  "language_info": {
   "codemirror_mode": {
    "name": "ipython",
    "version": 3
   },
   "file_extension": ".py",
   "mimetype": "text/x-python",
   "name": "python",
   "nbconvert_exporter": "python",
   "pygments_lexer": "ipython3",
   "version": "3.7.4"
  }
 },
 "nbformat": 4,
 "nbformat_minor": 2
}
